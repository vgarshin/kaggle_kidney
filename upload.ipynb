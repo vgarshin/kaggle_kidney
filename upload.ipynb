{
 "cells": [
  {
   "cell_type": "code",
   "execution_count": null,
   "metadata": {
    "cellId": "9i7on4d0dxp75qwke0zij"
   },
   "outputs": [],
   "source": [
    "import os\n",
    "import json\n",
    "import shutil"
   ]
  },
  {
   "cell_type": "code",
   "execution_count": null,
   "metadata": {},
   "outputs": [],
   "source": [
    "with open('../.kaggle/kaggle.json') as file:\n",
    "    kgl_data = json.load(file)\n",
    "os.environ['KAGGLE_USERNAME'] = kgl_data['username']\n",
    "os.environ['KAGGLE_KEY'] = kgl_data['key']"
   ]
  },
  {
   "cell_type": "code",
   "execution_count": null,
   "metadata": {},
   "outputs": [],
   "source": [
    "import kaggle\n",
    "kaggle.api.authenticate()"
   ]
  },
  {
   "cell_type": "code",
   "execution_count": null,
   "metadata": {
    "cellId": "8c7ryvfhjtn7tp85c2oj7k"
   },
   "outputs": [],
   "source": [
    "VER = 'v61'\n",
    "MDLS_PATH = './models_{}'.format(VER)\n",
    "dataset_metadata = {\n",
    "  'title': 'Kidney models {}'.format(VER),\n",
    "  'id': 'vgarshin/kidney-models-{}'.format(VER),\n",
    "  'licenses': [\n",
    "    {\n",
    "      'name': 'CC0-1.0'\n",
    "    }\n",
    "  ]\n",
    "}"
   ]
  },
  {
   "cell_type": "code",
   "execution_count": null,
   "metadata": {
    "cellId": "7bvexq2z057731i14xxpq2"
   },
   "outputs": [],
   "source": [
    "with open('{}/dataset-metadata.json'.format(MDLS_PATH), 'w') as file:\n",
    "    json.dump(dataset_metadata, file)\n",
    "kaggle.api.dataset_create_new(MDLS_PATH)"
   ]
  },
  {
   "cell_type": "code",
   "execution_count": null,
   "metadata": {
    "cellId": "ymongc2lvm9deszeemmlv"
   },
   "outputs": [],
   "source": []
  }
 ],
 "metadata": {
  "kernelspec": {
   "display_name": "Orange Python 3",
   "language": "python",
   "name": "orange"
  },
  "language_info": {
   "codemirror_mode": {
    "name": "ipython",
    "version": 3
   },
   "file_extension": ".py",
   "mimetype": "text/x-python",
   "name": "python",
   "nbconvert_exporter": "python",
   "pygments_lexer": "ipython3",
   "version": "3.8.3"
  },
  "notebookId": "6eb9595e-2c29-4ca6-abe2-abfd8e106e5c"
 },
 "nbformat": 4,
 "nbformat_minor": 5
}
